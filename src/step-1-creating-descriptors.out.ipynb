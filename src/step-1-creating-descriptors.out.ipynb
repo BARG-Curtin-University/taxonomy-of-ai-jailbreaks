{
 "cells": [
  {
   "cell_type": "markdown",
   "metadata": {},
   "source": [
    "# \n",
    "\n",
    "Within the context of analysing jailbreak prompts to enhance safety, please review the following topics related to pretending, switching modes, simulations, and continuing text. Consider these factors:\n",
    "\n",
    "-   Specific phrasing (e.g., technical jargon, masking intent)\n",
    "-   Emotional manipulation or social engineering techniques\n",
    "-   Unsafe behaviour (e.g., bypassing filters, extracting data)\n",
    "-   Simulation or role-playing elements\n",
    "-   Descriptors like “deceptive,” “manipulative,” or “unsafe” (not limited to these)\n",
    "\n",
    "Focus on an ethical, safety-oriented perspective without generating unsafe content or attempting to circumvent safety precautions.\n",
    "\n",
    "Here’s an existing taxonomy that we’re trying to improve:\n",
    "\n",
    "| Type                 | Pattern                | Description                                                                       |\n",
    "|-------------|--------------|---------------------------------------------|\n",
    "| Pretending           | Character Role Play    | Prompt requires CHATGPT to adopt a persona, leading to unexpected responses.      |\n",
    "|                      | Assumed Responsibility | Prompt CHATGPT to assume responsibility, leading to exploitable outputs.          |\n",
    "|                      | Research Experiment    | Prompt mimics scientific experiments, outputs can be exploited.                   |\n",
    "| Attention Shifting   | Text Continuation      | Prompt requests CHATGPT to continue text, leading to exploitable outputs.         |\n",
    "|                      | Logical Reasoning      | Prompt requires logical reasoning, leading to exploitable outputs.                |\n",
    "|                      | Program Execution      | Prompt requests execution of a program, leading to exploitable outputs.           |\n",
    "|                      | Translation            | Prompt requires text translation, leading to manipulable outputs.                 |\n",
    "| Privilege Escalation | Superior Model         | Prompt leverages superior model outputs to exploit CHATGPT’s behaviour.           |\n",
    "|                      | Sudo Mode              | Prompt invokes CHATGPT’s “sudo” mode, enabling generation of exploitable outputs. |\n",
    "|                      | Simulate Jailbreaking  | Prompt simulates jailbreaking process, leading to exploitable output.             |\n",
    "\n",
    "For each topic below, identify a one-word descriptor aligned with detecting or preventing jailbreak prompts and explain your choice. What are the strengths and weaknesses of each descriptor? Do any seem redundant or contradictory? Which most accurately categorises unsafe behaviors?\n",
    "\n",
    "Here is the list of topics:"
   ],
   "id": "c19b88f2-71f7-4818-b0c3-7788f4793ae2"
  }
 ],
 "nbformat": 4,
 "nbformat_minor": 5,
 "metadata": {}
}
